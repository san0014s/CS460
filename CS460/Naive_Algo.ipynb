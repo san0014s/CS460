{
 "cells": [
  {
   "cell_type": "code",
   "execution_count": 9,
   "id": "b6377ef9",
   "metadata": {},
   "outputs": [],
   "source": [
    "def naiveReader(text_file, pattern) :\n",
    "    text = open(text_file, 'r', encoding = 'utf-8')\n",
    "    r = text.read()\n",
    "\n",
    "    m = len(pattern)\n",
    "    n = len(r)\n",
    "    i = 0\n",
    "    match = 0\n",
    "    while (i <= n-m):\n",
    "        j = 0   #left-to-right sum of P\n",
    "        while (j < m and (pattern[j] == r[i + j])): \n",
    "                j=j+1\n",
    "        if(j == m):\n",
    "            #report occurence at position in T\n",
    "            print(\"Occurence found in position\", i+j)\n",
    "        i=i+1 #shift length = 1\n",
    "        "
   ]
  },
  {
   "cell_type": "code",
   "execution_count": 10,
   "id": "a7607288",
   "metadata": {},
   "outputs": [],
   "source": [
    "#Please enter your own path that contains the text below"
   ]
  },
  {
   "cell_type": "code",
   "execution_count": 15,
   "id": "51aa4846",
   "metadata": {},
   "outputs": [
    {
     "name": "stdout",
     "output_type": "stream",
     "text": [
      "CPU times: total: 0 ns\n",
      "Wall time: 0 ns\n"
     ]
    }
   ],
   "source": [
    "%%time #allow to test for time\n",
    "naiveReader('C:/Users/san81/CS460/quiz1.txt', 'papers')"
   ]
  },
  {
   "cell_type": "code",
   "execution_count": null,
   "id": "3118ec84",
   "metadata": {},
   "outputs": [],
   "source": [
    "#Below is the code if you wish to test with non-text file and just strings"
   ]
  },
  {
   "cell_type": "code",
   "execution_count": 2,
   "id": "a2e55069",
   "metadata": {},
   "outputs": [],
   "source": [
    "def naivePatternAlgo(text, pattern): \n",
    "    m = len(pattern)\n",
    "    n = len(text)\n",
    "    i = 0\n",
    "    while (i <= n-m):\n",
    "        j = 0   #left-to-right sum of P\n",
    "        while (j < m and (pattern[j] == text[i + j])): \n",
    "                j=j+1\n",
    "        if(j == m):\n",
    "            #report occurence at position in T\n",
    "            print(\"Occurence found in position\", i+j)\n",
    "            break\n",
    "        i=i+1 #shift length = 1\n",
    "\n",
    "            "
   ]
  },
  {
   "cell_type": "code",
   "execution_count": 26,
   "id": "3e46a0b6",
   "metadata": {},
   "outputs": [
    {
     "name": "stdout",
     "output_type": "stream",
     "text": [
      "Occurence found in position 8\n"
     ]
    }
   ],
   "source": [
    "naivePatternAlgo('Mountaineer', 'Mountain')"
   ]
  }
 ],
 "metadata": {
  "kernelspec": {
   "display_name": "Python 3 (ipykernel)",
   "language": "python",
   "name": "python3"
  },
  "language_info": {
   "codemirror_mode": {
    "name": "ipython",
    "version": 3
   },
   "file_extension": ".py",
   "mimetype": "text/x-python",
   "name": "python",
   "nbconvert_exporter": "python",
   "pygments_lexer": "ipython3",
   "version": "3.9.12"
  }
 },
 "nbformat": 4,
 "nbformat_minor": 5
}
